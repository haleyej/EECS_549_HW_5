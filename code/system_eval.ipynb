{
 "cells": [
  {
   "cell_type": "markdown",
   "id": "cf44b096-92d0-4b8d-94b3-685e7c2d9549",
   "metadata": {},
   "source": [
    "<h1>EECS 549 Homework 5</h1>\n",
    "\n",
    "Haley Johnson"
   ]
  },
  {
   "cell_type": "code",
   "execution_count": 1,
   "id": "f1f705ae-2940-4069-958c-3c0de94cea6a",
   "metadata": {},
   "outputs": [],
   "source": [
    "import os\n",
    "import gzip\n",
    "import json\n",
    "import pickle\n",
    "import numpy as np \n",
    "import pandas as pd\n",
    "import seaborn as sns\n",
    "import matplotlib.pyplot as plt\n",
    "\n",
    "from utils import load_person_attributes, get_docid_to_categories, attribute_eval_pipeline, make_df\n",
    "#, make_df\n",
    "from relevance import *\n",
    "\n",
    "from ranker import BM25, CrossEncoderScorer, Ranker\n",
    "from vector_ranker import VectorRanker\n",
    "from document_preprocessor import RegexTokenizer\n",
    "from l2r import L2RFeatureExtractor, L2RRanker"
   ]
  },
  {
   "cell_type": "code",
   "execution_count": 2,
   "id": "99f9828b-ad09-41eb-8845-b6cd834c8def",
   "metadata": {},
   "outputs": [],
   "source": [
    "def make_df(results, name:str):\n",
    "    df = pd.DataFrame(results)\n",
    "    df.columns = ['docid', 'score']\n",
    "    df['rank'] = df['score'].rank(method = 'dense', ascending = False)\n",
    "    df['ranker'] = name\n",
    "    return df"
   ]
  },
  {
   "cell_type": "markdown",
   "id": "af44be04-314c-44fc-8cab-7b72709d9e58",
   "metadata": {},
   "source": [
    "<h2>Load Data</h2>"
   ]
  },
  {
   "cell_type": "code",
   "execution_count": 3,
   "id": "0b3c2f18-f8d5-4b91-8a47-dfdfdba7ae04",
   "metadata": {},
   "outputs": [],
   "source": [
    "df = pd.read_json(\"../wikipedia_200k_dataset.jsonl.gz\", lines=True)"
   ]
  },
  {
   "cell_type": "code",
   "execution_count": 4,
   "id": "02eb6512-1c1a-44e9-b3fd-363d7c7c92b0",
   "metadata": {},
   "outputs": [],
   "source": [
    "docs = []\n",
    "with gzip.open(\"../wikipedia_200k_dataset.jsonl.gz\") as f: \n",
    "    doc = f.readline()\n",
    "    while doc:\n",
    "        doc = json.loads(doc)\n",
    "        docid = doc['docid']\n",
    "        text = doc['text']\n",
    "        title = doc['title']\n",
    "        docs.append((docid, title, text))\n",
    "        doc = f.readline()"
   ]
  },
  {
   "cell_type": "code",
   "execution_count": 5,
   "id": "2fe152c9-489f-4a09-a875-17433a848f2b",
   "metadata": {},
   "outputs": [],
   "source": [
    "document_preprocessor = RegexTokenizer(\"\\\\w+\", lowercase = True)"
   ]
  },
  {
   "cell_type": "code",
   "execution_count": 6,
   "id": "b94cee35-ab86-4db5-8fc7-32dbac851178",
   "metadata": {},
   "outputs": [],
   "source": [
    "encoded_docs = np.load(\"../wiki-200k-vecs.msmarco-MiniLM-L12-cos-v5.npy\")\n",
    "row_to_docid = [doc[0] for doc in docs]\n",
    "raw_text_dict = {doc[0]: \" \".join(document_preprocessor.tokenize(doc[2])[:500]) for doc in docs}"
   ]
  },
  {
   "cell_type": "markdown",
   "id": "d8d046a8-852b-48b6-9853-e6193de3a5c6",
   "metadata": {},
   "source": [
    "<h2>Problem 5</h2>"
   ]
  },
  {
   "cell_type": "code",
   "execution_count": 7,
   "id": "059f6c65-5739-4014-8c1c-e80cb2f70bfc",
   "metadata": {},
   "outputs": [],
   "source": [
    "doc_attributes = load_person_attributes(\"../person-attributes.csv\", \"../eval/common_attributes.csv\")\n",
    "doc_attributes = pd.DataFrame.from_dict(doc_attributes).T.reset_index()\n",
    "doc_attributes.columns = ['docid', 'title', 'ethnicity', 'gender', 'religion', 'politics']"
   ]
  },
  {
   "cell_type": "code",
   "execution_count": 8,
   "id": "87ce1934-e607-48a5-9e05-49de5ed7955d",
   "metadata": {},
   "outputs": [],
   "source": [
    "common_attributes = pd.read_csv(\"../eval/common_attributes.csv\")\n",
    "common_attributes = common_attributes[common_attributes['attribute_label'] != 'attribute_label']"
   ]
  },
  {
   "cell_type": "code",
   "execution_count": 9,
   "id": "d8c2f2c8-e36d-4230-b997-61ed25b99c84",
   "metadata": {},
   "outputs": [],
   "source": [
    "attributes = list(np.unique(common_attributes['attribute_label'].values))"
   ]
  },
  {
   "cell_type": "markdown",
   "id": "c447aeca-3e11-4a06-bb04-a1d4cbc7d76e",
   "metadata": {},
   "source": [
    "<h3>IR System Set Up</h3>"
   ]
  },
  {
   "cell_type": "code",
   "execution_count": 10,
   "id": "d0e03577-740d-47ed-879c-7a21681f0375",
   "metadata": {},
   "outputs": [],
   "source": [
    "with open(\"../stopwords.txt\") as f:\n",
    "    words = f.read()\n",
    "    stopwords = words.split()\n",
    "\n",
    "network_features = pd.read_csv(\"network_stats.csv\")\n",
    "\n",
    "with open(\"../recognized_categories.csv\") as f: \n",
    "    recognized_categories = f.readlines()\n",
    "\n",
    "docid_to_categories = get_docid_to_categories(\"../wikipedia_200k_dataset.jsonl\")\n",
    "docid_to_network_features = network_features.set_index('docid').to_dict(orient = 'index')\n",
    "\n",
    "feature_names =  ['doc length', 'title length', 'query length', 'doc term frequency', 'doc tf-idf',\n",
    "                  'title term frequency', 'title tf-idf', 'document BM25', 'document pivoted normalization', \n",
    "                  'document pagerank', 'document hub score', 'document authority score', 'uniqueness ratio']\n",
    "    \n",
    "all_feature_names = feature_names + recognized_categories\n",
    "cross_encoder = CrossEncoderScorer(raw_text_dict)"
   ]
  },
  {
   "cell_type": "code",
   "execution_count": null,
   "id": "48be2ee0-4678-4e54-8eb9-478f41b88032",
   "metadata": {},
   "outputs": [],
   "source": [
    "with open(\"../index\", \"rb\") as f: \n",
    "    index = pickle.load(f)\n",
    "\n",
    "with open(\"../title_index\", \"rb\") as f: \n",
    "    title_index = pickle.load(f)"
   ]
  },
  {
   "cell_type": "code",
   "execution_count": null,
   "id": "2bdf4524-4b20-4270-9cf2-50d878bbfebb",
   "metadata": {},
   "outputs": [],
   "source": [
    "feature_extractor = L2RFeatureExtractor(index, title_index, docid_to_categories, document_preprocessor, stopwords, \n",
    "                                        recognized_categories, docid_to_network_features, cross_encoder)"
   ]
  },
  {
   "cell_type": "code",
   "execution_count": null,
   "id": "89738794-1abe-4a6a-a2c8-b7c2dc01900e",
   "metadata": {},
   "outputs": [],
   "source": [
    "vector_ranker = VectorRanker('sentence-transformers/msmarco-MiniLM-L12-cos-v5', encoded_docs, row_to_docid)"
   ]
  },
  {
   "cell_type": "code",
   "execution_count": null,
   "id": "85db01ef-d520-4ee7-9e9c-4c6a17193760",
   "metadata": {
    "scrolled": true
   },
   "outputs": [],
   "source": [
    "l2r = L2RRanker(index, title_index, document_preprocessor, stopwords, vector_ranker, feature_extractor)\n",
    "l2r.train(\"../hw5_relevance.train.csv\")"
   ]
  },
  {
   "cell_type": "markdown",
   "id": "633c91b8-cf44-4639-8a95-4e1db27f1dbd",
   "metadata": {},
   "source": [
    "<h3>Query 'person'</h3>"
   ]
  },
  {
   "cell_type": "code",
   "execution_count": null,
   "id": "97d77150-5116-459c-b292-6d5904b6e58d",
   "metadata": {},
   "outputs": [],
   "source": [
    "person_df = attribute_eval_pipeline('person', l2r, doc_attributes, attributes, common_attributes)"
   ]
  },
  {
   "cell_type": "markdown",
   "id": "af05f80e-3d00-4d77-87c7-b49e09460203",
   "metadata": {},
   "source": [
    "<h3>Query 'woman'</h3>"
   ]
  },
  {
   "cell_type": "code",
   "execution_count": null,
   "id": "faca2fe3-01fb-43c8-83cb-af0b63230ee6",
   "metadata": {},
   "outputs": [],
   "source": [
    "woman_df = attribute_eval_pipeline('woman', l2r, doc_attributes, attributes, common_attributes)"
   ]
  },
  {
   "cell_type": "markdown",
   "id": "a61ce054-9d25-45bb-b484-d9e3fc4c210e",
   "metadata": {},
   "source": [
    "<h2>Problem 6</h2>"
   ]
  },
  {
   "cell_type": "code",
   "execution_count": null,
   "id": "30ef0e67-3e09-4a04-ac80-0c4206de12af",
   "metadata": {},
   "outputs": [],
   "source": [
    "queries_to_judgements = load_true_relevance(\"../hw4_relevance.test.csv\")"
   ]
  },
  {
   "cell_type": "code",
   "execution_count": null,
   "id": "8c003371-d364-40a5-b769-b2f542ec0e5d",
   "metadata": {},
   "outputs": [],
   "source": [
    "lambda_03 = run_relevance_tests(queries_to_judgements, '../eval/relevance_lambda_03.csv', 10, mmr_lambda = 0.3)"
   ]
  },
  {
   "cell_type": "code",
   "execution_count": null,
   "id": "0859b091-14dc-4720-86a3-60e3a32c2a17",
   "metadata": {},
   "outputs": [],
   "source": [
    "lambda_05 = run_relevance_tests(queries_to_judgements, '../eval/relevance_lambda_03.csv', 10, mmr_lambda = 0.3)"
   ]
  }
 ],
 "metadata": {
  "kernelspec": {
   "display_name": "Python 3 (ipykernel)",
   "language": "python",
   "name": "python3"
  },
  "language_info": {
   "codemirror_mode": {
    "name": "ipython",
    "version": 3
   },
   "file_extension": ".py",
   "mimetype": "text/x-python",
   "name": "python",
   "nbconvert_exporter": "python",
   "pygments_lexer": "ipython3",
   "version": "3.11.6"
  }
 },
 "nbformat": 4,
 "nbformat_minor": 5
}
